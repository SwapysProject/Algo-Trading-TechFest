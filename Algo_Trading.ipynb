<<<<<<< Updated upstream
import pandas as pd
import numpy as np

df = pd.read_csv('Training Dataset\\Adani Enterprises.csv')
df = df.replace({',': ''}, regex=True)
df['Close'] = df['Close'].astype(float)
df['Open'] = df['Open'].astype(float)
df['High'] = df['High'].astype(float)
df['Low'] = df['Low'].astype(float)

short_window = 50
long_window = 200
target_pct = 0.02
stoploss_pct = 0.005

df['Short_EMA'] = df['Close'].ewm(span=short_window, adjust=False).mean()
df['Long_EMA'] = df['Close'].ewm(span=long_window, adjust=False).mean()

initial_cash = 1000
cash = initial_cash
position = 0
buy_price = 0
target_price = 0
stoploss_price = 0
total_value = []
accuracy_count = 0
total_trades = 0
trade_log = []

for i in range(max(short_window, long_window), len(df)):
    if df['Short_EMA'].iloc[i] > df['Long_EMA'].iloc[i]:
        if position == 0:
            if cash >= df['Close'].iloc[i]:
                position = 1
                cash -= df['Close'].iloc[i]
                buy_price = df['Close'].iloc[i]
                target_price = buy_price * (1 + target_pct)
                stoploss_price = buy_price * (1 - stoploss_pct)
                total_trades += 1
                trade_log.append({
                    'Date': df.index[i],
                    'Action': 'Buy',
                    'Price': buy_price,
                    'Target_Price': target_price,
                    'Stoploss_Price': stoploss_price,
                    'Trade_Result': 'Bought'
                })

    if position > 0:
        trade_result = ''
        if df['Close'].iloc[i] >= target_price:
            cash += position * df['Close'].iloc[i]
            position = 0
            trade_result = 'Target Hit'
            accuracy_count += 1
        elif df['Close'].iloc[i] <= stoploss_price:
            cash += position * df['Close'].iloc[i]
            position = 0
            trade_result = 'Stoploss Hit'
        elif df['Short_EMA'].iloc[i] < df['Long_EMA'].iloc[i]:
            cash += position * df['Close'].iloc[i]
            position = 0
            trade_result = 'Crossover'

        if trade_result != '':
            trade_log.append({
                'Date': df.index[i],
                'Action': 'Sell',
                'Price': df['Close'].iloc[i],
                'Target_Price': target_price,
                'Stoploss_Price': stoploss_price,
                'Trade_Result': trade_result
            })

    total_value.append(cash + position * df['Close'].iloc[i])

if total_trades == 0:
    print("No trades executed due to insufficient cash.")
else:
    final_value = total_value[-1]
    total_return = (final_value - initial_cash) / initial_cash * 100
    accuracy = accuracy_count / total_trades * 100

    print(f"Initial Cash: ₹{initial_cash}")
    print(f"Final Portfolio Value: ₹{final_value:.2f}")
    print(f"Total Return: {total_return:.2f}%")
    print(f"Total Trades: {total_trades}")
    print(f"Winning Trades: {accuracy_count}")
    print(f"Accuracy: {accuracy:.2f}%")

    import numpy as np
    portfolio_values = np.array(total_value)
    daily_returns = np.diff(portfolio_values) / portfolio_values[:-1]
    risk_free_rate_annual = 0.05
    trading_days = 252
    risk_free_rate_daily = risk_free_rate_annual / trading_days
    excess_daily_returns = daily_returns - risk_free_rate_daily
    if np.std(daily_returns) != 0:
        sharpe_ratio = np.mean(excess_daily_returns) / np.std(daily_returns) * np.sqrt(trading_days)
    else:
        sharpe_ratio = 0
    print(f"Sharpe Ratio: {sharpe_ratio:.2f}")

trade_df = pd.DataFrame(trade_log)
trade_df.to_csv('ema_trade_log_with_results_3.csv', index=False)
print("Trade log with results has been saved to 'ema_trade_log_with_results_3.csv'.")
=======
{
 "cells": [
  {
   "cell_type": "code",
   "execution_count": null,
   "id": "385c7028",
   "metadata": {},
   "outputs": [],
   "source": [
    "import pandas as pd\n",
    "import numpy as np"
   ]
  },
  {
   "cell_type": "code",
   "execution_count": null,
   "id": "acc87915",
   "metadata": {},
   "outputs": [
    {
     "name": "stdout",
     "output_type": "stream",
     "text": [
      "Initial Cash: ₹1000\n",
      "Final Portfolio Value: ₹2139.45\n",
      "Total Return: 113.94%\n",
      "Total Trades: 252\n",
      "Winning Trades: 104\n",
      "Accuracy: 41.27%\n",
      "Sharpe Ratio: 1.34\n",
      "Trade log with results has been saved to 'ema_trade_log_with_results_3.csv'.\n"
     ]
    }
   ],
   "source": [
    "\n",
    "\n",
    "df = pd.read_csv('Training Dataset\\\\Adani Enterprises.csv')\n",
    "df = df.replace({',': ''}, regex=True)\n",
    "df['Close'] = df['Close'].astype(float)\n",
    "df['Open'] = df['Open'].astype(float)\n",
    "df['High'] = df['High'].astype(float)\n",
    "df['Low'] = df['Low'].astype(float)\n",
    "\n",
    "short_window = 50\n",
    "long_window = 200\n",
    "target_pct = 0.02\n",
    "stoploss_pct = 0.005\n",
    "\n",
    "df['Short_EMA'] = df['Close'].ewm(span=short_window, adjust=False).mean()\n",
    "df['Long_EMA'] = df['Close'].ewm(span=long_window, adjust=False).mean()\n",
    "\n",
    "initial_cash = 1000\n",
    "cash = initial_cash\n",
    "position = 0\n",
    "buy_price = 0\n",
    "target_price = 0\n",
    "stoploss_price = 0\n",
    "total_value = []\n",
    "accuracy_count = 0\n",
    "total_trades = 0\n",
    "trade_log = []\n",
    "\n",
    "for i in range(max(short_window, long_window), len(df)):\n",
    "    if df['Short_EMA'].iloc[i] > df['Long_EMA'].iloc[i]:\n",
    "        if position == 0:\n",
    "            if cash >= df['Close'].iloc[i]:\n",
    "                position = 1\n",
    "                cash -= df['Close'].iloc[i]\n",
    "                buy_price = df['Close'].iloc[i]\n",
    "                target_price = buy_price * (1 + target_pct)\n",
    "                stoploss_price = buy_price * (1 - stoploss_pct)\n",
    "                total_trades += 1\n",
    "                trade_log.append({\n",
    "                    'Date': df.index[i],\n",
    "                    'Action': 'Buy',\n",
    "                    'Price': buy_price,\n",
    "                    'Target_Price': target_price,\n",
    "                    'Stoploss_Price': stoploss_price,\n",
    "                    'Trade_Result': 'Bought'\n",
    "                })\n",
    "\n",
    "    if position > 0:\n",
    "        trade_result = ''\n",
    "        if df['Close'].iloc[i] >= target_price:\n",
    "            cash += position * df['Close'].iloc[i]\n",
    "            position = 0\n",
    "            trade_result = 'Target Hit'\n",
    "            accuracy_count += 1\n",
    "        elif df['Close'].iloc[i] <= stoploss_price:\n",
    "            cash += position * df['Close'].iloc[i]\n",
    "            position = 0\n",
    "            trade_result = 'Stoploss Hit'\n",
    "        elif df['Short_EMA'].iloc[i] < df['Long_EMA'].iloc[i]:\n",
    "            cash += position * df['Close'].iloc[i]\n",
    "            position = 0\n",
    "            trade_result = 'Crossover'\n",
    "\n",
    "        if trade_result != '':\n",
    "            trade_log.append({\n",
    "                'Date': df.index[i],\n",
    "                'Action': 'Sell',\n",
    "                'Price': df['Close'].iloc[i],\n",
    "                'Target_Price': target_price,\n",
    "                'Stoploss_Price': stoploss_price,\n",
    "                'Trade_Result': trade_result\n",
    "            })\n",
    "\n",
    "    total_value.append(cash + position * df['Close'].iloc[i])\n",
    "\n",
    "if total_trades == 0:\n",
    "    print(\"No trades executed due to insufficient cash.\")\n",
    "else:\n",
    "    final_value = total_value[-1]\n",
    "    total_return = (final_value - initial_cash) / initial_cash * 100\n",
    "    accuracy = accuracy_count / total_trades * 100\n",
    "\n",
    "    print(f\"Initial Cash: ₹{initial_cash}\")\n",
    "    print(f\"Final Portfolio Value: ₹{final_value:.2f}\")\n",
    "    print(f\"Total Return: {total_return:.2f}%\")\n",
    "    print(f\"Total Trades: {total_trades}\")\n",
    "    print(f\"Winning Trades: {accuracy_count}\")\n",
    "    print(f\"Accuracy: {accuracy:.2f}%\")\n",
    "\n",
    "    import numpy as np\n",
    "    portfolio_values = np.array(total_value)\n",
    "    daily_returns = np.diff(portfolio_values) / portfolio_values[:-1]\n",
    "    risk_free_rate_annual = 0.05\n",
    "    trading_days = 252\n",
    "    risk_free_rate_daily = risk_free_rate_annual / trading_days\n",
    "    excess_daily_returns = daily_returns - risk_free_rate_daily\n",
    "    if np.std(daily_returns) != 0:\n",
    "        sharpe_ratio = np.mean(excess_daily_returns) / np.std(daily_returns) * np.sqrt(trading_days)\n",
    "    else:\n",
    "        sharpe_ratio = 0\n",
    "    print(f\"Sharpe Ratio: {sharpe_ratio:.2f}\")\n",
    "\n",
    "trade_df = pd.DataFrame(trade_log)\n",
    "trade_df.to_csv('ema_trade_log_with_results_3.csv', index=False)\n",
    "print(\"Trade log with results has been saved to 'ema_trade_log_with_results_3.csv'.\")\n"
   ]
  }
 ],
 "metadata": {
  "kernelspec": {
   "display_name": "Python 3",
   "language": "python",
   "name": "python3"
  },
  "language_info": {
   "codemirror_mode": {
    "name": "ipython",
    "version": 3
   },
   "file_extension": ".py",
   "mimetype": "text/x-python",
   "name": "python",
   "nbconvert_exporter": "python",
   "pygments_lexer": "ipython3",
   "version": "3.10.11"
  }
 },
 "nbformat": 4,
 "nbformat_minor": 5
}
>>>>>>> Stashed changes
